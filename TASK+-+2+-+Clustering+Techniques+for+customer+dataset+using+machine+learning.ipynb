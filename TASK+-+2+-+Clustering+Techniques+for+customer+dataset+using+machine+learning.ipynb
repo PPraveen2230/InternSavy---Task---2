{
 "cells": [
  {
   "cell_type": "markdown",
   "metadata": {},
   "source": [
    "# TASK 2"
   ]
  },
  {
   "cell_type": "markdown",
   "metadata": {},
   "source": [
    "## Use Clustering Techniques for the any customer dataset using machine learning"
   ]
  },
  {
   "cell_type": "markdown",
   "metadata": {},
   "source": [
    "The dataset is an Online Retail data of a UK based retail. From the outlook of the products listed, the company looks like it sells gift based items for various ocassions. \n",
    "\n",
    "The dataset contains the purchase transactions for the given duration - 01/Dec/2010 and 09/Dec/2011 \n",
    "\n",
    "The parameters included are :\n",
    "\n",
    "1) InvoiceNo\t\n",
    "2) StockCode\t\n",
    "3) Description\t\n",
    "4) Quantity\t\n",
    "5) InvoiceDate\t\n",
    "6) UnitPrice\t\n",
    "7) CustomerID\t\n",
    "8) Country\n"
   ]
  },
  {
   "cell_type": "markdown",
   "metadata": {},
   "source": [
    "## Our Task\n",
    "\n",
    "Clustering Techniques for customer dataset using machine learning\n",
    "An RFM analysis on the company's customers is used and clustering is done to understand the customers' purchase preference.\n",
    "\n",
    "Process :-\n",
    "\n",
    "1: Reading and Understanding Data \n",
    "\n",
    "2: Visualizing and Data Cleaning\n",
    "\n",
    "3: Data Preparation\n",
    "\n",
    "4: Building K-Means Model and clustering\n",
    "\n",
    "5: Inference"
   ]
  },
  {
   "cell_type": "markdown",
   "metadata": {},
   "source": [
    "# Step 1- Reading and Understanding Data"
   ]
  },
  {
   "cell_type": "markdown",
   "metadata": {},
   "source": [
    "### Importing libraries"
   ]
  },
  {
   "cell_type": "code",
   "execution_count": 1,
   "metadata": {
    "collapsed": true
   },
   "outputs": [],
   "source": [
    "# import required libraries for dataframe and visualization\n",
    "import pandas as pd\n",
    "import numpy as np\n",
    "from pathlib import Path\n",
    "import matplotlib.pyplot as plt\n",
    "import seaborn as sns\n",
    "import datetime as dt\n",
    "from statsmodels.tsa.arima_model import ARIMA\n",
    "from statsmodels.graphics.tsaplots import plot_pacf\n",
    "from collections import Counter\n",
    "\n",
    "%matplotlib inline\n",
    "\n",
    "import warnings\n",
    "warnings.filterwarnings('ignore')\n",
    "\n",
    "# import required libraries for clustering\n",
    "import sklearn\n",
    "from sklearn.cluster import KMeans\n",
    "from sklearn.metrics import silhouette_score"
   ]
  },
  {
   "cell_type": "code",
   "execution_count": 2,
   "metadata": {},
   "outputs": [
    {
     "data": {
      "text/html": [
       "<div>\n",
       "<style scoped>\n",
       "    .dataframe tbody tr th:only-of-type {\n",
       "        vertical-align: middle;\n",
       "    }\n",
       "\n",
       "    .dataframe tbody tr th {\n",
       "        vertical-align: top;\n",
       "    }\n",
       "\n",
       "    .dataframe thead th {\n",
       "        text-align: right;\n",
       "    }\n",
       "</style>\n",
       "<table border=\"1\" class=\"dataframe\">\n",
       "  <thead>\n",
       "    <tr style=\"text-align: right;\">\n",
       "      <th></th>\n",
       "      <th>InvoiceNo</th>\n",
       "      <th>StockCode</th>\n",
       "      <th>Description</th>\n",
       "      <th>Quantity</th>\n",
       "      <th>InvoiceDate</th>\n",
       "      <th>UnitPrice</th>\n",
       "      <th>CustomerID</th>\n",
       "      <th>Country</th>\n",
       "    </tr>\n",
       "  </thead>\n",
       "  <tbody>\n",
       "    <tr>\n",
       "      <th>0</th>\n",
       "      <td>536365</td>\n",
       "      <td>85123A</td>\n",
       "      <td>WHITE HANGING HEART T-LIGHT HOLDER</td>\n",
       "      <td>6</td>\n",
       "      <td>01-12-2010 08:26</td>\n",
       "      <td>2.55</td>\n",
       "      <td>17850.0</td>\n",
       "      <td>United Kingdom</td>\n",
       "    </tr>\n",
       "    <tr>\n",
       "      <th>1</th>\n",
       "      <td>536365</td>\n",
       "      <td>71053</td>\n",
       "      <td>WHITE METAL LANTERN</td>\n",
       "      <td>6</td>\n",
       "      <td>01-12-2010 08:26</td>\n",
       "      <td>3.39</td>\n",
       "      <td>17850.0</td>\n",
       "      <td>United Kingdom</td>\n",
       "    </tr>\n",
       "    <tr>\n",
       "      <th>2</th>\n",
       "      <td>536365</td>\n",
       "      <td>84406B</td>\n",
       "      <td>CREAM CUPID HEARTS COAT HANGER</td>\n",
       "      <td>8</td>\n",
       "      <td>01-12-2010 08:26</td>\n",
       "      <td>2.75</td>\n",
       "      <td>17850.0</td>\n",
       "      <td>United Kingdom</td>\n",
       "    </tr>\n",
       "    <tr>\n",
       "      <th>3</th>\n",
       "      <td>536365</td>\n",
       "      <td>84029G</td>\n",
       "      <td>KNITTED UNION FLAG HOT WATER BOTTLE</td>\n",
       "      <td>6</td>\n",
       "      <td>01-12-2010 08:26</td>\n",
       "      <td>3.39</td>\n",
       "      <td>17850.0</td>\n",
       "      <td>United Kingdom</td>\n",
       "    </tr>\n",
       "    <tr>\n",
       "      <th>4</th>\n",
       "      <td>536365</td>\n",
       "      <td>84029E</td>\n",
       "      <td>RED WOOLLY HOTTIE WHITE HEART.</td>\n",
       "      <td>6</td>\n",
       "      <td>01-12-2010 08:26</td>\n",
       "      <td>3.39</td>\n",
       "      <td>17850.0</td>\n",
       "      <td>United Kingdom</td>\n",
       "    </tr>\n",
       "  </tbody>\n",
       "</table>\n",
       "</div>"
      ],
      "text/plain": [
       "  InvoiceNo StockCode                          Description  Quantity  \\\n",
       "0    536365    85123A   WHITE HANGING HEART T-LIGHT HOLDER         6   \n",
       "1    536365     71053                  WHITE METAL LANTERN         6   \n",
       "2    536365    84406B       CREAM CUPID HEARTS COAT HANGER         8   \n",
       "3    536365    84029G  KNITTED UNION FLAG HOT WATER BOTTLE         6   \n",
       "4    536365    84029E       RED WOOLLY HOTTIE WHITE HEART.         6   \n",
       "\n",
       "        InvoiceDate  UnitPrice  CustomerID         Country  \n",
       "0  01-12-2010 08:26       2.55     17850.0  United Kingdom  \n",
       "1  01-12-2010 08:26       3.39     17850.0  United Kingdom  \n",
       "2  01-12-2010 08:26       2.75     17850.0  United Kingdom  \n",
       "3  01-12-2010 08:26       3.39     17850.0  United Kingdom  \n",
       "4  01-12-2010 08:26       3.39     17850.0  United Kingdom  "
      ]
     },
     "execution_count": 2,
     "metadata": {},
     "output_type": "execute_result"
    }
   ],
   "source": [
    "# load data\n",
    "df = pd.read_csv('OnlineRetail.csv',  encoding = 'unicode_escape')\n",
    "df.head()"
   ]
  },
  {
   "cell_type": "code",
   "execution_count": 3,
   "metadata": {},
   "outputs": [
    {
     "data": {
      "text/plain": [
       "(541909, 8)"
      ]
     },
     "execution_count": 3,
     "metadata": {},
     "output_type": "execute_result"
    }
   ],
   "source": [
    "# shape\n",
    "df.shape"
   ]
  },
  {
   "cell_type": "code",
   "execution_count": 4,
   "metadata": {},
   "outputs": [
    {
     "data": {
      "text/html": [
       "<style type=\"text/css\">\n",
       "#T_23981_row0_col0, #T_23981_row1_col0, #T_23981_row2_col1, #T_23981_row2_col2, #T_23981_row2_col5 {\n",
       "  background-color: #49006a;\n",
       "  color: #f1f1f1;\n",
       "}\n",
       "#T_23981_row0_col1, #T_23981_row0_col5, #T_23981_row1_col1, #T_23981_row1_col2, #T_23981_row1_col5, #T_23981_row2_col0 {\n",
       "  background-color: #fff7f3;\n",
       "  color: #000000;\n",
       "}\n",
       "#T_23981_row0_col2 {\n",
       "  background-color: #fee9e6;\n",
       "  color: #000000;\n",
       "}\n",
       "</style>\n",
       "<table id=\"T_23981_\">\n",
       "  <thead>\n",
       "    <tr>\n",
       "      <th class=\"blank level0\" >&nbsp;</th>\n",
       "      <th class=\"col_heading level0 col0\" >count</th>\n",
       "      <th class=\"col_heading level0 col1\" >mean</th>\n",
       "      <th class=\"col_heading level0 col2\" >std</th>\n",
       "      <th class=\"col_heading level0 col3\" >min</th>\n",
       "      <th class=\"col_heading level0 col4\" >25%</th>\n",
       "      <th class=\"col_heading level0 col5\" >50%</th>\n",
       "      <th class=\"col_heading level0 col6\" >75%</th>\n",
       "      <th class=\"col_heading level0 col7\" >max</th>\n",
       "    </tr>\n",
       "  </thead>\n",
       "  <tbody>\n",
       "    <tr>\n",
       "      <th id=\"T_23981_level0_row0\" class=\"row_heading level0 row0\" >Quantity</th>\n",
       "      <td id=\"T_23981_row0_col0\" class=\"data row0 col0\" >541909.000000</td>\n",
       "      <td id=\"T_23981_row0_col1\" class=\"data row0 col1\" >9.552250</td>\n",
       "      <td id=\"T_23981_row0_col2\" class=\"data row0 col2\" >218.081158</td>\n",
       "      <td id=\"T_23981_row0_col3\" class=\"data row0 col3\" >-80995.000000</td>\n",
       "      <td id=\"T_23981_row0_col4\" class=\"data row0 col4\" >1.000000</td>\n",
       "      <td id=\"T_23981_row0_col5\" class=\"data row0 col5\" >3.000000</td>\n",
       "      <td id=\"T_23981_row0_col6\" class=\"data row0 col6\" >10.000000</td>\n",
       "      <td id=\"T_23981_row0_col7\" class=\"data row0 col7\" >80995.000000</td>\n",
       "    </tr>\n",
       "    <tr>\n",
       "      <th id=\"T_23981_level0_row1\" class=\"row_heading level0 row1\" >UnitPrice</th>\n",
       "      <td id=\"T_23981_row1_col0\" class=\"data row1 col0\" >541909.000000</td>\n",
       "      <td id=\"T_23981_row1_col1\" class=\"data row1 col1\" >4.611114</td>\n",
       "      <td id=\"T_23981_row1_col2\" class=\"data row1 col2\" >96.759853</td>\n",
       "      <td id=\"T_23981_row1_col3\" class=\"data row1 col3\" >-11062.060000</td>\n",
       "      <td id=\"T_23981_row1_col4\" class=\"data row1 col4\" >1.250000</td>\n",
       "      <td id=\"T_23981_row1_col5\" class=\"data row1 col5\" >2.080000</td>\n",
       "      <td id=\"T_23981_row1_col6\" class=\"data row1 col6\" >4.130000</td>\n",
       "      <td id=\"T_23981_row1_col7\" class=\"data row1 col7\" >38970.000000</td>\n",
       "    </tr>\n",
       "    <tr>\n",
       "      <th id=\"T_23981_level0_row2\" class=\"row_heading level0 row2\" >CustomerID</th>\n",
       "      <td id=\"T_23981_row2_col0\" class=\"data row2 col0\" >406829.000000</td>\n",
       "      <td id=\"T_23981_row2_col1\" class=\"data row2 col1\" >15287.690570</td>\n",
       "      <td id=\"T_23981_row2_col2\" class=\"data row2 col2\" >1713.600303</td>\n",
       "      <td id=\"T_23981_row2_col3\" class=\"data row2 col3\" >12346.000000</td>\n",
       "      <td id=\"T_23981_row2_col4\" class=\"data row2 col4\" >13953.000000</td>\n",
       "      <td id=\"T_23981_row2_col5\" class=\"data row2 col5\" >15152.000000</td>\n",
       "      <td id=\"T_23981_row2_col6\" class=\"data row2 col6\" >16791.000000</td>\n",
       "      <td id=\"T_23981_row2_col7\" class=\"data row2 col7\" >18287.000000</td>\n",
       "    </tr>\n",
       "  </tbody>\n",
       "</table>\n"
      ],
      "text/plain": [
       "<pandas.io.formats.style.Styler at 0x7fe5c6dd4d10>"
      ]
     },
     "execution_count": 4,
     "metadata": {},
     "output_type": "execute_result"
    }
   ],
   "source": [
    "# data description\n",
    "df.describe().T.style.background_gradient(subset=['mean','std','50%','count'], cmap='RdPu')"
   ]
  },
  {
   "cell_type": "markdown",
   "metadata": {},
   "source": [
    "From the above description it is clear that negative and missing values are present. "
   ]
  },
  {
   "cell_type": "code",
   "execution_count": 5,
   "metadata": {},
   "outputs": [
    {
     "name": "stdout",
     "output_type": "stream",
     "text": [
      "<class 'pandas.core.frame.DataFrame'>\n",
      "RangeIndex: 541909 entries, 0 to 541908\n",
      "Data columns (total 8 columns):\n",
      " #   Column       Non-Null Count   Dtype  \n",
      "---  ------       --------------   -----  \n",
      " 0   InvoiceNo    541909 non-null  object \n",
      " 1   StockCode    541909 non-null  object \n",
      " 2   Description  540455 non-null  object \n",
      " 3   Quantity     541909 non-null  int64  \n",
      " 4   InvoiceDate  541909 non-null  object \n",
      " 5   UnitPrice    541909 non-null  float64\n",
      " 6   CustomerID   406829 non-null  float64\n",
      " 7   Country      541909 non-null  object \n",
      "dtypes: float64(2), int64(1), object(5)\n",
      "memory usage: 33.1+ MB\n"
     ]
    }
   ],
   "source": [
    "# data information\n",
    "df.info()"
   ]
  },
  {
   "cell_type": "code",
   "execution_count": 6,
   "metadata": {},
   "outputs": [
    {
     "data": {
      "text/plain": [
       "InvoiceNo           0\n",
       "StockCode           0\n",
       "Description      1454\n",
       "Quantity            0\n",
       "InvoiceDate         0\n",
       "UnitPrice           0\n",
       "CustomerID     135080\n",
       "Country             0\n",
       "dtype: int64"
      ]
     },
     "execution_count": 6,
     "metadata": {},
     "output_type": "execute_result"
    }
   ],
   "source": [
    "# Finding the count of null values\n",
    "df.isnull().sum()"
   ]
  },
  {
   "cell_type": "code",
   "execution_count": 7,
   "metadata": {},
   "outputs": [
    {
     "data": {
      "text/html": [
       "<div>\n",
       "<style scoped>\n",
       "    .dataframe tbody tr th:only-of-type {\n",
       "        vertical-align: middle;\n",
       "    }\n",
       "\n",
       "    .dataframe tbody tr th {\n",
       "        vertical-align: top;\n",
       "    }\n",
       "\n",
       "    .dataframe thead th {\n",
       "        text-align: right;\n",
       "    }\n",
       "</style>\n",
       "<table border=\"1\" class=\"dataframe\">\n",
       "  <thead>\n",
       "    <tr style=\"text-align: right;\">\n",
       "      <th></th>\n",
       "      <th>InvoiceNo</th>\n",
       "      <th>Quantity</th>\n",
       "      <th>InvoiceDate</th>\n",
       "      <th>UnitPrice</th>\n",
       "      <th>CustomerID</th>\n",
       "    </tr>\n",
       "  </thead>\n",
       "  <tbody>\n",
       "    <tr>\n",
       "      <th>0</th>\n",
       "      <td>536365</td>\n",
       "      <td>6</td>\n",
       "      <td>01-12-2010 08:26</td>\n",
       "      <td>2.55</td>\n",
       "      <td>17850.0</td>\n",
       "    </tr>\n",
       "    <tr>\n",
       "      <th>1</th>\n",
       "      <td>536365</td>\n",
       "      <td>6</td>\n",
       "      <td>01-12-2010 08:26</td>\n",
       "      <td>3.39</td>\n",
       "      <td>17850.0</td>\n",
       "    </tr>\n",
       "    <tr>\n",
       "      <th>2</th>\n",
       "      <td>536365</td>\n",
       "      <td>8</td>\n",
       "      <td>01-12-2010 08:26</td>\n",
       "      <td>2.75</td>\n",
       "      <td>17850.0</td>\n",
       "    </tr>\n",
       "    <tr>\n",
       "      <th>3</th>\n",
       "      <td>536365</td>\n",
       "      <td>6</td>\n",
       "      <td>01-12-2010 08:26</td>\n",
       "      <td>3.39</td>\n",
       "      <td>17850.0</td>\n",
       "    </tr>\n",
       "    <tr>\n",
       "      <th>4</th>\n",
       "      <td>536365</td>\n",
       "      <td>6</td>\n",
       "      <td>01-12-2010 08:26</td>\n",
       "      <td>3.39</td>\n",
       "      <td>17850.0</td>\n",
       "    </tr>\n",
       "  </tbody>\n",
       "</table>\n",
       "</div>"
      ],
      "text/plain": [
       "  InvoiceNo  Quantity       InvoiceDate  UnitPrice  CustomerID\n",
       "0    536365         6  01-12-2010 08:26       2.55     17850.0\n",
       "1    536365         6  01-12-2010 08:26       3.39     17850.0\n",
       "2    536365         8  01-12-2010 08:26       2.75     17850.0\n",
       "3    536365         6  01-12-2010 08:26       3.39     17850.0\n",
       "4    536365         6  01-12-2010 08:26       3.39     17850.0"
      ]
     },
     "execution_count": 7,
     "metadata": {},
     "output_type": "execute_result"
    }
   ],
   "source": [
    "# Dropping unwanted columns from the dataset\n",
    "df_new = df.drop(['StockCode', 'Description', 'Country'], axis=1)\n",
    "df_new.head()"
   ]
  },
  {
   "cell_type": "code",
   "execution_count": 8,
   "metadata": {},
   "outputs": [
    {
     "data": {
      "text/html": [
       "<div>\n",
       "<style scoped>\n",
       "    .dataframe tbody tr th:only-of-type {\n",
       "        vertical-align: middle;\n",
       "    }\n",
       "\n",
       "    .dataframe tbody tr th {\n",
       "        vertical-align: top;\n",
       "    }\n",
       "\n",
       "    .dataframe thead th {\n",
       "        text-align: right;\n",
       "    }\n",
       "</style>\n",
       "<table border=\"1\" class=\"dataframe\">\n",
       "  <thead>\n",
       "    <tr style=\"text-align: right;\">\n",
       "      <th></th>\n",
       "      <th>InvoiceNo</th>\n",
       "      <th>Quantity</th>\n",
       "      <th>InvoiceDate</th>\n",
       "      <th>UnitPrice</th>\n",
       "      <th>CustomerID</th>\n",
       "      <th>Amount</th>\n",
       "    </tr>\n",
       "  </thead>\n",
       "  <tbody>\n",
       "    <tr>\n",
       "      <th>0</th>\n",
       "      <td>536365</td>\n",
       "      <td>6</td>\n",
       "      <td>01-12-2010 08:26</td>\n",
       "      <td>2.55</td>\n",
       "      <td>17850.0</td>\n",
       "      <td>15.30</td>\n",
       "    </tr>\n",
       "    <tr>\n",
       "      <th>1</th>\n",
       "      <td>536365</td>\n",
       "      <td>6</td>\n",
       "      <td>01-12-2010 08:26</td>\n",
       "      <td>3.39</td>\n",
       "      <td>17850.0</td>\n",
       "      <td>20.34</td>\n",
       "    </tr>\n",
       "    <tr>\n",
       "      <th>2</th>\n",
       "      <td>536365</td>\n",
       "      <td>8</td>\n",
       "      <td>01-12-2010 08:26</td>\n",
       "      <td>2.75</td>\n",
       "      <td>17850.0</td>\n",
       "      <td>22.00</td>\n",
       "    </tr>\n",
       "    <tr>\n",
       "      <th>3</th>\n",
       "      <td>536365</td>\n",
       "      <td>6</td>\n",
       "      <td>01-12-2010 08:26</td>\n",
       "      <td>3.39</td>\n",
       "      <td>17850.0</td>\n",
       "      <td>20.34</td>\n",
       "    </tr>\n",
       "    <tr>\n",
       "      <th>4</th>\n",
       "      <td>536365</td>\n",
       "      <td>6</td>\n",
       "      <td>01-12-2010 08:26</td>\n",
       "      <td>3.39</td>\n",
       "      <td>17850.0</td>\n",
       "      <td>20.34</td>\n",
       "    </tr>\n",
       "  </tbody>\n",
       "</table>\n",
       "</div>"
      ],
      "text/plain": [
       "  InvoiceNo  Quantity       InvoiceDate  UnitPrice  CustomerID  Amount\n",
       "0    536365         6  01-12-2010 08:26       2.55     17850.0   15.30\n",
       "1    536365         6  01-12-2010 08:26       3.39     17850.0   20.34\n",
       "2    536365         8  01-12-2010 08:26       2.75     17850.0   22.00\n",
       "3    536365         6  01-12-2010 08:26       3.39     17850.0   20.34\n",
       "4    536365         6  01-12-2010 08:26       3.39     17850.0   20.34"
      ]
     },
     "execution_count": 8,
     "metadata": {},
     "output_type": "execute_result"
    }
   ],
   "source": [
    "# Creating a new attribute sale\n",
    "df_new[\"Amount\"] = df_new.Quantity * df_new.UnitPrice\n",
    "df_new.head()"
   ]
  },
  {
   "cell_type": "markdown",
   "metadata": {},
   "source": [
    "# Step 2 : Visualizing and Data Cleaning"
   ]
  },
  {
   "cell_type": "code",
   "execution_count": 9,
   "metadata": {},
   "outputs": [
    {
     "name": "stdout",
     "output_type": "stream",
     "text": [
      "<class 'pandas.core.frame.DataFrame'>\n",
      "Int64Index: 406829 entries, 0 to 541908\n",
      "Data columns (total 6 columns):\n",
      " #   Column       Non-Null Count   Dtype  \n",
      "---  ------       --------------   -----  \n",
      " 0   InvoiceNo    406829 non-null  object \n",
      " 1   Quantity     406829 non-null  int64  \n",
      " 2   InvoiceDate  406829 non-null  object \n",
      " 3   UnitPrice    406829 non-null  float64\n",
      " 4   CustomerID   406829 non-null  float64\n",
      " 5   Amount       406829 non-null  float64\n",
      "dtypes: float64(3), int64(1), object(2)\n",
      "memory usage: 21.7+ MB\n"
     ]
    }
   ],
   "source": [
    "# Dropping of rows with missing values\n",
    "df_new = df_new.dropna()\n",
    "df_new.info()"
   ]
  },
  {
   "cell_type": "code",
   "execution_count": 10,
   "metadata": {},
   "outputs": [
    {
     "data": {
      "text/plain": [
       "InvoiceNo      0\n",
       "Quantity       0\n",
       "InvoiceDate    0\n",
       "UnitPrice      0\n",
       "CustomerID     0\n",
       "Amount         0\n",
       "dtype: int64"
      ]
     },
     "execution_count": 10,
     "metadata": {},
     "output_type": "execute_result"
    }
   ],
   "source": [
    "df_new.isnull().sum() #no null values"
   ]
  },
  {
   "cell_type": "code",
   "execution_count": 11,
   "metadata": {},
   "outputs": [
    {
     "data": {
      "text/plain": [
       "<AxesSubplot:xlabel='Quantity'>"
      ]
     },
     "execution_count": 11,
     "metadata": {},
     "output_type": "execute_result"
    },
    {
     "data": {
      "image/png": "[encoded data removed]",
      "text/plain": [
       "<Figure size 432x288 with 1 Axes>"
      ]
     },
     "metadata": {
      "needs_background": "light"
     },
     "output_type": "display_data"
    }
   ],
   "source": [
    "# visualizing each variables\n",
    "sns.boxplot(x=df_new['Quantity'])"
   ]
  },
  {
   "cell_type": "code",
   "execution_count": 12,
   "metadata": {},
   "outputs": [
    {
     "data": {
      "text/plain": [
       "<AxesSubplot:xlabel='UnitPrice'>"
      ]
     },
     "execution_count": 12,
     "metadata": {},
     "output_type": "execute_result"
    },
    {
     "data": {
      "image/png": "[encoded data removed]",
      "text/plain": [
       "<Figure size 432x288 with 1 Axes>"
      ]
     },
     "metadata": {
      "needs_background": "light"
     },
     "output_type": "display_data"
    }
   ],
   "source": [
    "sns.boxplot(x=df_new['UnitPrice'])"
   ]
  },
  {
   "cell_type": "code",
   "execution_count": 13,
   "metadata": {},
   "outputs": [
    {
     "data": {
      "text/html": [
       "<style type=\"text/css\">\n",
       "#T_b41b2_row0_col0, #T_b41b2_row0_col1, #T_b41b2_row0_col5, #T_b41b2_row1_col0, #T_b41b2_row1_col1, #T_b41b2_row1_col2, #T_b41b2_row1_col5, #T_b41b2_row2_col0, #T_b41b2_row3_col0, #T_b41b2_row3_col1, #T_b41b2_row3_col5 {\n",
       "  background-color: #fff7f3;\n",
       "  color: #000000;\n",
       "}\n",
       "#T_b41b2_row0_col2 {\n",
       "  background-color: #fde4e0;\n",
       "  color: #000000;\n",
       "}\n",
       "#T_b41b2_row2_col1, #T_b41b2_row2_col2, #T_b41b2_row2_col5 {\n",
       "  background-color: #49006a;\n",
       "  color: #f1f1f1;\n",
       "}\n",
       "#T_b41b2_row3_col2 {\n",
       "  background-color: #fcccc8;\n",
       "  color: #000000;\n",
       "}\n",
       "</style>\n",
       "<table id=\"T_b41b2_\">\n",
       "  <thead>\n",
       "    <tr>\n",
       "      <th class=\"blank level0\" >&nbsp;</th>\n",
       "      <th class=\"col_heading level0 col0\" >count</th>\n",
       "      <th class=\"col_heading level0 col1\" >mean</th>\n",
       "      <th class=\"col_heading level0 col2\" >std</th>\n",
       "      <th class=\"col_heading level0 col3\" >min</th>\n",
       "      <th class=\"col_heading level0 col4\" >25%</th>\n",
       "      <th class=\"col_heading level0 col5\" >50%</th>\n",
       "      <th class=\"col_heading level0 col6\" >75%</th>\n",
       "      <th class=\"col_heading level0 col7\" >max</th>\n",
       "    </tr>\n",
       "  </thead>\n",
       "  <tbody>\n",
       "    <tr>\n",
       "      <th id=\"T_b41b2_level0_row0\" class=\"row_heading level0 row0\" >Quantity</th>\n",
       "      <td id=\"T_b41b2_row0_col0\" class=\"data row0 col0\" >406829.000000</td>\n",
       "      <td id=\"T_b41b2_row0_col1\" class=\"data row0 col1\" >12.061303</td>\n",
       "      <td id=\"T_b41b2_row0_col2\" class=\"data row0 col2\" >248.693370</td>\n",
       "      <td id=\"T_b41b2_row0_col3\" class=\"data row0 col3\" >-80995.000000</td>\n",
       "      <td id=\"T_b41b2_row0_col4\" class=\"data row0 col4\" >2.000000</td>\n",
       "      <td id=\"T_b41b2_row0_col5\" class=\"data row0 col5\" >5.000000</td>\n",
       "      <td id=\"T_b41b2_row0_col6\" class=\"data row0 col6\" >12.000000</td>\n",
       "      <td id=\"T_b41b2_row0_col7\" class=\"data row0 col7\" >80995.000000</td>\n",
       "    </tr>\n",
       "    <tr>\n",
       "      <th id=\"T_b41b2_level0_row1\" class=\"row_heading level0 row1\" >UnitPrice</th>\n",
       "      <td id=\"T_b41b2_row1_col0\" class=\"data row1 col0\" >406829.000000</td>\n",
       "      <td id=\"T_b41b2_row1_col1\" class=\"data row1 col1\" >3.460471</td>\n",
       "      <td id=\"T_b41b2_row1_col2\" class=\"data row1 col2\" >69.315162</td>\n",
       "      <td id=\"T_b41b2_row1_col3\" class=\"data row1 col3\" >0.000000</td>\n",
       "      <td id=\"T_b41b2_row1_col4\" class=\"data row1 col4\" >1.250000</td>\n",
       "      <td id=\"T_b41b2_row1_col5\" class=\"data row1 col5\" >1.950000</td>\n",
       "      <td id=\"T_b41b2_row1_col6\" class=\"data row1 col6\" >3.750000</td>\n",
       "      <td id=\"T_b41b2_row1_col7\" class=\"data row1 col7\" >38970.000000</td>\n",
       "    </tr>\n",
       "    <tr>\n",
       "      <th id=\"T_b41b2_level0_row2\" class=\"row_heading level0 row2\" >CustomerID</th>\n",
       "      <td id=\"T_b41b2_row2_col0\" class=\"data row2 col0\" >406829.000000</td>\n",
       "      <td id=\"T_b41b2_row2_col1\" class=\"data row2 col1\" >15287.690570</td>\n",
       "      <td id=\"T_b41b2_row2_col2\" class=\"data row2 col2\" >1713.600303</td>\n",
       "      <td id=\"T_b41b2_row2_col3\" class=\"data row2 col3\" >12346.000000</td>\n",
       "      <td id=\"T_b41b2_row2_col4\" class=\"data row2 col4\" >13953.000000</td>\n",
       "      <td id=\"T_b41b2_row2_col5\" class=\"data row2 col5\" >15152.000000</td>\n",
       "      <td id=\"T_b41b2_row2_col6\" class=\"data row2 col6\" >16791.000000</td>\n",
       "      <td id=\"T_b41b2_row2_col7\" class=\"data row2 col7\" >18287.000000</td>\n",
       "    </tr>\n",
       "    <tr>\n",
       "      <th id=\"T_b41b2_level0_row3\" class=\"row_heading level0 row3\" >Amount</th>\n",
       "      <td id=\"T_b41b2_row3_col0\" class=\"data row3 col0\" >406829.000000</td>\n",
       "      <td id=\"T_b41b2_row3_col1\" class=\"data row3 col1\" >20.401854</td>\n",
       "      <td id=\"T_b41b2_row3_col2\" class=\"data row3 col2\" >427.591718</td>\n",
       "      <td id=\"T_b41b2_row3_col3\" class=\"data row3 col3\" >-168469.600000</td>\n",
       "      <td id=\"T_b41b2_row3_col4\" class=\"data row3 col4\" >4.200000</td>\n",
       "      <td id=\"T_b41b2_row3_col5\" class=\"data row3 col5\" >11.100000</td>\n",
       "      <td id=\"T_b41b2_row3_col6\" class=\"data row3 col6\" >19.500000</td>\n",
       "      <td id=\"T_b41b2_row3_col7\" class=\"data row3 col7\" >168469.600000</td>\n",
       "    </tr>\n",
       "  </tbody>\n",
       "</table>\n"
      ],
      "text/plain": [
       "<pandas.io.formats.style.Styler at 0x7fe5c6712a90>"
      ]
     },
     "execution_count": 13,
     "metadata": {},
     "output_type": "execute_result"
    }
   ],
   "source": [
    "df_new.describe().T.style.background_gradient(subset=['mean','std','50%','count'], cmap='RdPu')"
   ]
  },
  {
   "cell_type": "code",
   "execution_count": 14,
   "metadata": {
    "collapsed": true
   },
   "outputs": [],
   "source": [
    "df_new = df_new.loc[df[\"Quantity\"]>0]\n",
    "df_new = df_new.loc[df[\"UnitPrice\"]>-1]"
   ]
  },
  {
   "cell_type": "code",
   "execution_count": 15,
   "metadata": {},
   "outputs": [
    {
     "data": {
      "text/html": [
       "<style type=\"text/css\">\n",
       "#T_889c8_row0_col0, #T_889c8_row0_col1, #T_889c8_row0_col5, #T_889c8_row1_col0, #T_889c8_row1_col1, #T_889c8_row1_col2, #T_889c8_row1_col5, #T_889c8_row2_col0, #T_889c8_row3_col0, #T_889c8_row3_col1, #T_889c8_row3_col5 {\n",
       "  background-color: #fff7f3;\n",
       "  color: #000000;\n",
       "}\n",
       "#T_889c8_row0_col2 {\n",
       "  background-color: #fee6e3;\n",
       "  color: #000000;\n",
       "}\n",
       "#T_889c8_row2_col1, #T_889c8_row2_col2, #T_889c8_row2_col5 {\n",
       "  background-color: #49006a;\n",
       "  color: #f1f1f1;\n",
       "}\n",
       "#T_889c8_row3_col2 {\n",
       "  background-color: #fdd7d3;\n",
       "  color: #000000;\n",
       "}\n",
       "</style>\n",
       "<table id=\"T_889c8_\">\n",
       "  <thead>\n",
       "    <tr>\n",
       "      <th class=\"blank level0\" >&nbsp;</th>\n",
       "      <th class=\"col_heading level0 col0\" >count</th>\n",
       "      <th class=\"col_heading level0 col1\" >mean</th>\n",
       "      <th class=\"col_heading level0 col2\" >std</th>\n",
       "      <th class=\"col_heading level0 col3\" >min</th>\n",
       "      <th class=\"col_heading level0 col4\" >25%</th>\n",
       "      <th class=\"col_heading level0 col5\" >50%</th>\n",
       "      <th class=\"col_heading level0 col6\" >75%</th>\n",
       "      <th class=\"col_heading level0 col7\" >max</th>\n",
       "    </tr>\n",
       "  </thead>\n",
       "  <tbody>\n",
       "    <tr>\n",
       "      <th id=\"T_889c8_level0_row0\" class=\"row_heading level0 row0\" >Quantity</th>\n",
       "      <td id=\"T_889c8_row0_col0\" class=\"data row0 col0\" >397924.000000</td>\n",
       "      <td id=\"T_889c8_row0_col1\" class=\"data row0 col1\" >13.021823</td>\n",
       "      <td id=\"T_889c8_row0_col2\" class=\"data row0 col2\" >180.420210</td>\n",
       "      <td id=\"T_889c8_row0_col3\" class=\"data row0 col3\" >1.000000</td>\n",
       "      <td id=\"T_889c8_row0_col4\" class=\"data row0 col4\" >2.000000</td>\n",
       "      <td id=\"T_889c8_row0_col5\" class=\"data row0 col5\" >6.000000</td>\n",
       "      <td id=\"T_889c8_row0_col6\" class=\"data row0 col6\" >12.000000</td>\n",
       "      <td id=\"T_889c8_row0_col7\" class=\"data row0 col7\" >80995.000000</td>\n",
       "    </tr>\n",
       "    <tr>\n",
       "      <th id=\"T_889c8_level0_row1\" class=\"row_heading level0 row1\" >UnitPrice</th>\n",
       "      <td id=\"T_889c8_row1_col0\" class=\"data row1 col0\" >397924.000000</td>\n",
       "      <td id=\"T_889c8_row1_col1\" class=\"data row1 col1\" >3.116174</td>\n",
       "      <td id=\"T_889c8_row1_col2\" class=\"data row1 col2\" >22.096788</td>\n",
       "      <td id=\"T_889c8_row1_col3\" class=\"data row1 col3\" >0.000000</td>\n",
       "      <td id=\"T_889c8_row1_col4\" class=\"data row1 col4\" >1.250000</td>\n",
       "      <td id=\"T_889c8_row1_col5\" class=\"data row1 col5\" >1.950000</td>\n",
       "      <td id=\"T_889c8_row1_col6\" class=\"data row1 col6\" >3.750000</td>\n",
       "      <td id=\"T_889c8_row1_col7\" class=\"data row1 col7\" >8142.750000</td>\n",
       "    </tr>\n",
       "    <tr>\n",
       "      <th id=\"T_889c8_level0_row2\" class=\"row_heading level0 row2\" >CustomerID</th>\n",
       "      <td id=\"T_889c8_row2_col0\" class=\"data row2 col0\" >397924.000000</td>\n",
       "      <td id=\"T_889c8_row2_col1\" class=\"data row2 col1\" >15294.315171</td>\n",
       "      <td id=\"T_889c8_row2_col2\" class=\"data row2 col2\" >1713.169877</td>\n",
       "      <td id=\"T_889c8_row2_col3\" class=\"data row2 col3\" >12346.000000</td>\n",
       "      <td id=\"T_889c8_row2_col4\" class=\"data row2 col4\" >13969.000000</td>\n",
       "      <td id=\"T_889c8_row2_col5\" class=\"data row2 col5\" >15159.000000</td>\n",
       "      <td id=\"T_889c8_row2_col6\" class=\"data row2 col6\" >16795.000000</td>\n",
       "      <td id=\"T_889c8_row2_col7\" class=\"data row2 col7\" >18287.000000</td>\n",
       "    </tr>\n",
       "    <tr>\n",
       "      <th id=\"T_889c8_level0_row3\" class=\"row_heading level0 row3\" >Amount</th>\n",
       "      <td id=\"T_889c8_row3_col0\" class=\"data row3 col0\" >397924.000000</td>\n",
       "      <td id=\"T_889c8_row3_col1\" class=\"data row3 col1\" >22.394749</td>\n",
       "      <td id=\"T_889c8_row3_col2\" class=\"data row3 col2\" >309.055588</td>\n",
       "      <td id=\"T_889c8_row3_col3\" class=\"data row3 col3\" >0.000000</td>\n",
       "      <td id=\"T_889c8_row3_col4\" class=\"data row3 col4\" >4.680000</td>\n",
       "      <td id=\"T_889c8_row3_col5\" class=\"data row3 col5\" >11.800000</td>\n",
       "      <td id=\"T_889c8_row3_col6\" class=\"data row3 col6\" >19.800000</td>\n",
       "      <td id=\"T_889c8_row3_col7\" class=\"data row3 col7\" >168469.600000</td>\n",
       "    </tr>\n",
       "  </tbody>\n",
       "</table>\n"
      ],
      "text/plain": [
       "<pandas.io.formats.style.Styler at 0x7fe5c67a5c10>"
      ]
     },
     "execution_count": 15,
     "metadata": {},
     "output_type": "execute_result"
    }
   ],
   "source": [
    "df_new.describe().T.style.background_gradient(subset=['mean','std','50%','count'], cmap='RdPu')"
   ]
  },
  {
   "cell_type": "code",
   "execution_count": 16,
   "metadata": {
    "collapsed": true
   },
   "outputs": [],
   "source": [
    "# Change data type of Customer Id; they are not numeric in essence\n",
    "df_new['CustomerID'] = df_new['CustomerID'].astype(int)"
   ]
  },
  {
   "cell_type": "code",
   "execution_count": 17,
   "metadata": {},
   "outputs": [
    {
     "name": "stdout",
     "output_type": "stream",
     "text": [
      "<class 'pandas.core.frame.DataFrame'>\n",
      "Int64Index: 397924 entries, 0 to 541908\n",
      "Data columns (total 6 columns):\n",
      " #   Column       Non-Null Count   Dtype  \n",
      "---  ------       --------------   -----  \n",
      " 0   InvoiceNo    397924 non-null  object \n",
      " 1   Quantity     397924 non-null  int64  \n",
      " 2   InvoiceDate  397924 non-null  object \n",
      " 3   UnitPrice    397924 non-null  float64\n",
      " 4   CustomerID   397924 non-null  int64  \n",
      " 5   Amount       397924 non-null  float64\n",
      "dtypes: float64(2), int64(2), object(2)\n",
      "memory usage: 21.3+ MB\n"
     ]
    }
   ],
   "source": [
    "df_new.info()"
   ]
  },
  {
   "cell_type": "code",
   "execution_count": 18,
   "metadata": {},
   "outputs": [
    {
     "data": {
      "image/png": "[encoded data removed]",
      "text/plain": [
       "<Figure size 720x360 with 2 Axes>"
      ]
     },
     "metadata": {
      "needs_background": "light"
     },
     "output_type": "display_data"
    }
   ],
   "source": [
    "plt.figure(figsize=(10,5))\n",
    "cor = df_new.corr()\n",
    "sns.heatmap(cor, annot=True, cmap=plt.cm.Blues)\n",
    "plt.show()"
   ]
  },
  {
   "cell_type": "code",
   "execution_count": null,
   "metadata": {},
   "outputs": [],
   "source": []
  },
  {
   "cell_type": "markdown",
   "metadata": {},
   "source": [
    "# Step 3 : Data Preparation"
   ]
  },
  {
   "cell_type": "markdown",
   "metadata": {},
   "source": [
    "Using the RFM factors the analysis of the Customers transactions were clustered:\n",
    "\n",
    "R (Recency)  :  Number of days since previously purchase \n",
    "\n",
    "F (Frequency) : Number of transactions \n",
    "\n",
    "M (Monetary)  : Total spending by the customers (revenue)"
   ]
  },
  {
   "cell_type": "code",
   "execution_count": 47,
   "metadata": {},
   "outputs": [
    {
     "data": {
      "text/html": [
       "<div>\n",
       "<style scoped>\n",
       "    .dataframe tbody tr th:only-of-type {\n",
       "        vertical-align: middle;\n",
       "    }\n",
       "\n",
       "    .dataframe tbody tr th {\n",
       "        vertical-align: top;\n",
       "    }\n",
       "\n",
       "    .dataframe thead th {\n",
       "        text-align: right;\n",
       "    }\n",
       "</style>\n",
       "<table border=\"1\" class=\"dataframe\">\n",
       "  <thead>\n",
       "    <tr style=\"text-align: right;\">\n",
       "      <th></th>\n",
       "      <th>CustomerID</th>\n",
       "      <th>Amount</th>\n",
       "    </tr>\n",
       "  </thead>\n",
       "  <tbody>\n",
       "    <tr>\n",
       "      <th>0</th>\n",
       "      <td>12346</td>\n",
       "      <td>77183.60</td>\n",
       "    </tr>\n",
       "    <tr>\n",
       "      <th>1</th>\n",
       "      <td>12347</td>\n",
       "      <td>4310.00</td>\n",
       "    </tr>\n",
       "    <tr>\n",
       "      <th>2</th>\n",
       "      <td>12348</td>\n",
       "      <td>1797.24</td>\n",
       "    </tr>\n",
       "    <tr>\n",
       "      <th>3</th>\n",
       "      <td>12349</td>\n",
       "      <td>1757.55</td>\n",
       "    </tr>\n",
       "    <tr>\n",
       "      <th>4</th>\n",
       "      <td>12350</td>\n",
       "      <td>334.40</td>\n",
       "    </tr>\n",
       "  </tbody>\n",
       "</table>\n",
       "</div>"
      ],
      "text/plain": [
       "   CustomerID    Amount\n",
       "0       12346  77183.60\n",
       "1       12347   4310.00\n",
       "2       12348   1797.24\n",
       "3       12349   1757.55\n",
       "4       12350    334.40"
      ]
     },
     "execution_count": 47,
     "metadata": {},
     "output_type": "execute_result"
    }
   ],
   "source": [
    "# Calculate amount (monetary)\n",
    "\n",
    "monetary = df_new.groupby('CustomerID', as_index=False)['Amount'].sum()\n",
    "monetary.columns = ['CustomerID', 'Amount']\n",
    "monetary.head()"
   ]
  },
  {
   "cell_type": "code",
   "execution_count": 48,
   "metadata": {},
   "outputs": [
    {
     "data": {
      "text/html": [
       "<div>\n",
       "<style scoped>\n",
       "    .dataframe tbody tr th:only-of-type {\n",
       "        vertical-align: middle;\n",
       "    }\n",
       "\n",
       "    .dataframe tbody tr th {\n",
       "        vertical-align: top;\n",
       "    }\n",
       "\n",
       "    .dataframe thead th {\n",
       "        text-align: right;\n",
       "    }\n",
       "</style>\n",
       "<table border=\"1\" class=\"dataframe\">\n",
       "  <thead>\n",
       "    <tr style=\"text-align: right;\">\n",
       "      <th></th>\n",
       "      <th>CustomerID</th>\n",
       "      <th>Frequency</th>\n",
       "    </tr>\n",
       "  </thead>\n",
       "  <tbody>\n",
       "    <tr>\n",
       "      <th>0</th>\n",
       "      <td>12346</td>\n",
       "      <td>1</td>\n",
       "    </tr>\n",
       "    <tr>\n",
       "      <th>1</th>\n",
       "      <td>12347</td>\n",
       "      <td>182</td>\n",
       "    </tr>\n",
       "    <tr>\n",
       "      <th>2</th>\n",
       "      <td>12348</td>\n",
       "      <td>31</td>\n",
       "    </tr>\n",
       "    <tr>\n",
       "      <th>3</th>\n",
       "      <td>12349</td>\n",
       "      <td>73</td>\n",
       "    </tr>\n",
       "    <tr>\n",
       "      <th>4</th>\n",
       "      <td>12350</td>\n",
       "      <td>17</td>\n",
       "    </tr>\n",
       "  </tbody>\n",
       "</table>\n",
       "</div>"
      ],
      "text/plain": [
       "   CustomerID  Frequency\n",
       "0       12346          1\n",
       "1       12347        182\n",
       "2       12348         31\n",
       "3       12349         73\n",
       "4       12350         17"
      ]
     },
     "execution_count": 48,
     "metadata": {},
     "output_type": "execute_result"
    }
   ],
   "source": [
    "#Calculate frequency\n",
    "\n",
    "frequency = df_new.groupby('CustomerID', as_index=False)['InvoiceNo'].count()\n",
    "frequency.columns = ['CustomerID', 'Frequency']\n",
    "frequency.head()"
   ]
  },
  {
   "cell_type": "code",
   "execution_count": 49,
   "metadata": {},
   "outputs": [
    {
     "data": {
      "text/html": [
       "<div>\n",
       "<style scoped>\n",
       "    .dataframe tbody tr th:only-of-type {\n",
       "        vertical-align: middle;\n",
       "    }\n",
       "\n",
       "    .dataframe tbody tr th {\n",
       "        vertical-align: top;\n",
       "    }\n",
       "\n",
       "    .dataframe thead th {\n",
       "        text-align: right;\n",
       "    }\n",
       "</style>\n",
       "<table border=\"1\" class=\"dataframe\">\n",
       "  <thead>\n",
       "    <tr style=\"text-align: right;\">\n",
       "      <th></th>\n",
       "      <th>InvoiceNo</th>\n",
       "      <th>Quantity</th>\n",
       "      <th>InvoiceDate</th>\n",
       "      <th>UnitPrice</th>\n",
       "      <th>CustomerID</th>\n",
       "      <th>Amount</th>\n",
       "      <th>Diff</th>\n",
       "    </tr>\n",
       "  </thead>\n",
       "  <tbody>\n",
       "    <tr>\n",
       "      <th>0</th>\n",
       "      <td>536365</td>\n",
       "      <td>6</td>\n",
       "      <td>2010-12-01 08:26:00</td>\n",
       "      <td>2.55</td>\n",
       "      <td>17850</td>\n",
       "      <td>15.30</td>\n",
       "      <td>373</td>\n",
       "    </tr>\n",
       "    <tr>\n",
       "      <th>1</th>\n",
       "      <td>536365</td>\n",
       "      <td>6</td>\n",
       "      <td>2010-12-01 08:26:00</td>\n",
       "      <td>3.39</td>\n",
       "      <td>17850</td>\n",
       "      <td>20.34</td>\n",
       "      <td>373</td>\n",
       "    </tr>\n",
       "    <tr>\n",
       "      <th>2</th>\n",
       "      <td>536365</td>\n",
       "      <td>8</td>\n",
       "      <td>2010-12-01 08:26:00</td>\n",
       "      <td>2.75</td>\n",
       "      <td>17850</td>\n",
       "      <td>22.00</td>\n",
       "      <td>373</td>\n",
       "    </tr>\n",
       "    <tr>\n",
       "      <th>3</th>\n",
       "      <td>536365</td>\n",
       "      <td>6</td>\n",
       "      <td>2010-12-01 08:26:00</td>\n",
       "      <td>3.39</td>\n",
       "      <td>17850</td>\n",
       "      <td>20.34</td>\n",
       "      <td>373</td>\n",
       "    </tr>\n",
       "    <tr>\n",
       "      <th>4</th>\n",
       "      <td>536365</td>\n",
       "      <td>6</td>\n",
       "      <td>2010-12-01 08:26:00</td>\n",
       "      <td>3.39</td>\n",
       "      <td>17850</td>\n",
       "      <td>20.34</td>\n",
       "      <td>373</td>\n",
       "    </tr>\n",
       "  </tbody>\n",
       "</table>\n",
       "</div>"
      ],
      "text/plain": [
       "  InvoiceNo  Quantity         InvoiceDate  UnitPrice  CustomerID  Amount  Diff\n",
       "0    536365         6 2010-12-01 08:26:00       2.55       17850   15.30   373\n",
       "1    536365         6 2010-12-01 08:26:00       3.39       17850   20.34   373\n",
       "2    536365         8 2010-12-01 08:26:00       2.75       17850   22.00   373\n",
       "3    536365         6 2010-12-01 08:26:00       3.39       17850   20.34   373\n",
       "4    536365         6 2010-12-01 08:26:00       3.39       17850   20.34   373"
      ]
     },
     "execution_count": 49,
     "metadata": {},
     "output_type": "execute_result"
    }
   ],
   "source": [
    "# Reformat datetime\n",
    "\n",
    "df_new['InvoiceDate'] = pd.to_datetime(df_new['InvoiceDate'], format='%d-%m-%Y %H:%M')\n",
    "df_new.head()"
   ]
  },
  {
   "cell_type": "code",
   "execution_count": 50,
   "metadata": {},
   "outputs": [
    {
     "data": {
      "text/html": [
       "<div>\n",
       "<style scoped>\n",
       "    .dataframe tbody tr th:only-of-type {\n",
       "        vertical-align: middle;\n",
       "    }\n",
       "\n",
       "    .dataframe tbody tr th {\n",
       "        vertical-align: top;\n",
       "    }\n",
       "\n",
       "    .dataframe thead th {\n",
       "        text-align: right;\n",
       "    }\n",
       "</style>\n",
       "<table border=\"1\" class=\"dataframe\">\n",
       "  <thead>\n",
       "    <tr style=\"text-align: right;\">\n",
       "      <th></th>\n",
       "      <th>CustomerID</th>\n",
       "      <th>Recency</th>\n",
       "    </tr>\n",
       "  </thead>\n",
       "  <tbody>\n",
       "    <tr>\n",
       "      <th>0</th>\n",
       "      <td>12346</td>\n",
       "      <td>325</td>\n",
       "    </tr>\n",
       "    <tr>\n",
       "      <th>1</th>\n",
       "      <td>12347</td>\n",
       "      <td>1</td>\n",
       "    </tr>\n",
       "    <tr>\n",
       "      <th>2</th>\n",
       "      <td>12348</td>\n",
       "      <td>74</td>\n",
       "    </tr>\n",
       "    <tr>\n",
       "      <th>3</th>\n",
       "      <td>12349</td>\n",
       "      <td>18</td>\n",
       "    </tr>\n",
       "    <tr>\n",
       "      <th>4</th>\n",
       "      <td>12350</td>\n",
       "      <td>309</td>\n",
       "    </tr>\n",
       "  </tbody>\n",
       "</table>\n",
       "</div>"
      ],
      "text/plain": [
       "   CustomerID  Recency\n",
       "0       12346      325\n",
       "1       12347        1\n",
       "2       12348       74\n",
       "3       12349       18\n",
       "4       12350      309"
      ]
     },
     "execution_count": 50,
     "metadata": {},
     "output_type": "execute_result"
    }
   ],
   "source": [
    "# Calculate recency\n",
    "\n",
    "LastDate = max(df_new.InvoiceDate)\n",
    "LasDate = LastDate + pd.DateOffset(days = 1)\n",
    "df_new['Diff'] = LastDate - df_new.InvoiceDate\n",
    "df_new['Diff'] = df_new['Diff'].dt.days\n",
    "\n",
    "recency = df_new.groupby('CustomerID', as_index=False)['Diff'].min()\n",
    "\n",
    "recency.columns = ['CustomerID', 'Recency']\n",
    "recency.head()"
   ]
  },
  {
   "cell_type": "code",
   "execution_count": 59,
   "metadata": {},
   "outputs": [
    {
     "data": {
      "text/html": [
       "<div>\n",
       "<style scoped>\n",
       "    .dataframe tbody tr th:only-of-type {\n",
       "        vertical-align: middle;\n",
       "    }\n",
       "\n",
       "    .dataframe tbody tr th {\n",
       "        vertical-align: top;\n",
       "    }\n",
       "\n",
       "    .dataframe thead th {\n",
       "        text-align: right;\n",
       "    }\n",
       "</style>\n",
       "<table border=\"1\" class=\"dataframe\">\n",
       "  <thead>\n",
       "    <tr style=\"text-align: right;\">\n",
       "      <th></th>\n",
       "      <th>CustomerID</th>\n",
       "      <th>Amount</th>\n",
       "      <th>Frequency</th>\n",
       "      <th>Recency</th>\n",
       "    </tr>\n",
       "  </thead>\n",
       "  <tbody>\n",
       "    <tr>\n",
       "      <th>0</th>\n",
       "      <td>12346</td>\n",
       "      <td>77183.60</td>\n",
       "      <td>1</td>\n",
       "      <td>325</td>\n",
       "    </tr>\n",
       "    <tr>\n",
       "      <th>1</th>\n",
       "      <td>12347</td>\n",
       "      <td>4310.00</td>\n",
       "      <td>182</td>\n",
       "      <td>1</td>\n",
       "    </tr>\n",
       "    <tr>\n",
       "      <th>2</th>\n",
       "      <td>12348</td>\n",
       "      <td>1797.24</td>\n",
       "      <td>31</td>\n",
       "      <td>74</td>\n",
       "    </tr>\n",
       "    <tr>\n",
       "      <th>3</th>\n",
       "      <td>12349</td>\n",
       "      <td>1757.55</td>\n",
       "      <td>73</td>\n",
       "      <td>18</td>\n",
       "    </tr>\n",
       "    <tr>\n",
       "      <th>4</th>\n",
       "      <td>12350</td>\n",
       "      <td>334.40</td>\n",
       "      <td>17</td>\n",
       "      <td>309</td>\n",
       "    </tr>\n",
       "    <tr>\n",
       "      <th>...</th>\n",
       "      <td>...</td>\n",
       "      <td>...</td>\n",
       "      <td>...</td>\n",
       "      <td>...</td>\n",
       "    </tr>\n",
       "    <tr>\n",
       "      <th>4334</th>\n",
       "      <td>18280</td>\n",
       "      <td>180.60</td>\n",
       "      <td>10</td>\n",
       "      <td>277</td>\n",
       "    </tr>\n",
       "    <tr>\n",
       "      <th>4335</th>\n",
       "      <td>18281</td>\n",
       "      <td>80.82</td>\n",
       "      <td>7</td>\n",
       "      <td>180</td>\n",
       "    </tr>\n",
       "    <tr>\n",
       "      <th>4336</th>\n",
       "      <td>18282</td>\n",
       "      <td>178.05</td>\n",
       "      <td>12</td>\n",
       "      <td>7</td>\n",
       "    </tr>\n",
       "    <tr>\n",
       "      <th>4337</th>\n",
       "      <td>18283</td>\n",
       "      <td>2094.88</td>\n",
       "      <td>756</td>\n",
       "      <td>3</td>\n",
       "    </tr>\n",
       "    <tr>\n",
       "      <th>4338</th>\n",
       "      <td>18287</td>\n",
       "      <td>1837.28</td>\n",
       "      <td>70</td>\n",
       "      <td>42</td>\n",
       "    </tr>\n",
       "  </tbody>\n",
       "</table>\n",
       "<p>4339 rows × 4 columns</p>\n",
       "</div>"
      ],
      "text/plain": [
       "      CustomerID    Amount  Frequency  Recency\n",
       "0          12346  77183.60          1      325\n",
       "1          12347   4310.00        182        1\n",
       "2          12348   1797.24         31       74\n",
       "3          12349   1757.55         73       18\n",
       "4          12350    334.40         17      309\n",
       "...          ...       ...        ...      ...\n",
       "4334       18280    180.60         10      277\n",
       "4335       18281     80.82          7      180\n",
       "4336       18282    178.05         12        7\n",
       "4337       18283   2094.88        756        3\n",
       "4338       18287   1837.28         70       42\n",
       "\n",
       "[4339 rows x 4 columns]"
      ]
     },
     "execution_count": 59,
     "metadata": {},
     "output_type": "execute_result"
    }
   ],
   "source": [
    "RMF = monetary.merge(frequency, on = \"CustomerID\")\n",
    "RMF = RMF.merge(recency, on = \"CustomerID\")\n",
    "RMF.columns = [\"CustomerID\", \"Amount\", \"Frequency\", \"Recency\"]\n",
    "RMF"
   ]
  },
  {
   "cell_type": "code",
   "execution_count": 60,
   "metadata": {},
   "outputs": [
    {
     "data": {
      "text/html": [
       "<div>\n",
       "<style scoped>\n",
       "    .dataframe tbody tr th:only-of-type {\n",
       "        vertical-align: middle;\n",
       "    }\n",
       "\n",
       "    .dataframe tbody tr th {\n",
       "        vertical-align: top;\n",
       "    }\n",
       "\n",
       "    .dataframe thead th {\n",
       "        text-align: right;\n",
       "    }\n",
       "</style>\n",
       "<table border=\"1\" class=\"dataframe\">\n",
       "  <thead>\n",
       "    <tr style=\"text-align: right;\">\n",
       "      <th></th>\n",
       "      <th>Amount</th>\n",
       "      <th>Frequency</th>\n",
       "      <th>Recency</th>\n",
       "    </tr>\n",
       "  </thead>\n",
       "  <tbody>\n",
       "    <tr>\n",
       "      <th>0</th>\n",
       "      <td>77183.60</td>\n",
       "      <td>1</td>\n",
       "      <td>325</td>\n",
       "    </tr>\n",
       "    <tr>\n",
       "      <th>1</th>\n",
       "      <td>4310.00</td>\n",
       "      <td>182</td>\n",
       "      <td>1</td>\n",
       "    </tr>\n",
       "    <tr>\n",
       "      <th>2</th>\n",
       "      <td>1797.24</td>\n",
       "      <td>31</td>\n",
       "      <td>74</td>\n",
       "    </tr>\n",
       "    <tr>\n",
       "      <th>3</th>\n",
       "      <td>1757.55</td>\n",
       "      <td>73</td>\n",
       "      <td>18</td>\n",
       "    </tr>\n",
       "    <tr>\n",
       "      <th>4</th>\n",
       "      <td>334.40</td>\n",
       "      <td>17</td>\n",
       "      <td>309</td>\n",
       "    </tr>\n",
       "    <tr>\n",
       "      <th>...</th>\n",
       "      <td>...</td>\n",
       "      <td>...</td>\n",
       "      <td>...</td>\n",
       "    </tr>\n",
       "    <tr>\n",
       "      <th>4334</th>\n",
       "      <td>180.60</td>\n",
       "      <td>10</td>\n",
       "      <td>277</td>\n",
       "    </tr>\n",
       "    <tr>\n",
       "      <th>4335</th>\n",
       "      <td>80.82</td>\n",
       "      <td>7</td>\n",
       "      <td>180</td>\n",
       "    </tr>\n",
       "    <tr>\n",
       "      <th>4336</th>\n",
       "      <td>178.05</td>\n",
       "      <td>12</td>\n",
       "      <td>7</td>\n",
       "    </tr>\n",
       "    <tr>\n",
       "      <th>4337</th>\n",
       "      <td>2094.88</td>\n",
       "      <td>756</td>\n",
       "      <td>3</td>\n",
       "    </tr>\n",
       "    <tr>\n",
       "      <th>4338</th>\n",
       "      <td>1837.28</td>\n",
       "      <td>70</td>\n",
       "      <td>42</td>\n",
       "    </tr>\n",
       "  </tbody>\n",
       "</table>\n",
       "<p>4339 rows × 3 columns</p>\n",
       "</div>"
      ],
      "text/plain": [
       "        Amount  Frequency  Recency\n",
       "0     77183.60          1      325\n",
       "1      4310.00        182        1\n",
       "2      1797.24         31       74\n",
       "3      1757.55         73       18\n",
       "4       334.40         17      309\n",
       "...        ...        ...      ...\n",
       "4334    180.60         10      277\n",
       "4335     80.82          7      180\n",
       "4336    178.05         12        7\n",
       "4337   2094.88        756        3\n",
       "4338   1837.28         70       42\n",
       "\n",
       "[4339 rows x 3 columns]"
      ]
     },
     "execution_count": 60,
     "metadata": {},
     "output_type": "execute_result"
    }
   ],
   "source": [
    "RMF1 = pd.DataFrame(RMF,columns= [\"Amount\",\"Frequency\",\"Recency\"])\n",
    "RMF1"
   ]
  },
  {
   "cell_type": "code",
   "execution_count": null,
   "metadata": {
    "collapsed": true
   },
   "outputs": [],
   "source": []
  },
  {
   "cell_type": "code",
   "execution_count": 62,
   "metadata": {},
   "outputs": [
    {
     "data": {
      "text/html": [
       "<div>\n",
       "<style scoped>\n",
       "    .dataframe tbody tr th:only-of-type {\n",
       "        vertical-align: middle;\n",
       "    }\n",
       "\n",
       "    .dataframe tbody tr th {\n",
       "        vertical-align: top;\n",
       "    }\n",
       "\n",
       "    .dataframe thead th {\n",
       "        text-align: right;\n",
       "    }\n",
       "</style>\n",
       "<table border=\"1\" class=\"dataframe\">\n",
       "  <thead>\n",
       "    <tr style=\"text-align: right;\">\n",
       "      <th></th>\n",
       "      <th>Amount</th>\n",
       "      <th>Frequency</th>\n",
       "      <th>Recency</th>\n",
       "    </tr>\n",
       "  </thead>\n",
       "  <tbody>\n",
       "    <tr>\n",
       "      <th>0</th>\n",
       "      <td>8.359634</td>\n",
       "      <td>-0.396512</td>\n",
       "      <td>2.334858</td>\n",
       "    </tr>\n",
       "    <tr>\n",
       "      <th>1</th>\n",
       "      <td>0.251046</td>\n",
       "      <td>0.394688</td>\n",
       "      <td>-0.905199</td>\n",
       "    </tr>\n",
       "    <tr>\n",
       "      <th>2</th>\n",
       "      <td>-0.028546</td>\n",
       "      <td>-0.265374</td>\n",
       "      <td>-0.175186</td>\n",
       "    </tr>\n",
       "    <tr>\n",
       "      <th>3</th>\n",
       "      <td>-0.032963</td>\n",
       "      <td>-0.081781</td>\n",
       "      <td>-0.735196</td>\n",
       "    </tr>\n",
       "    <tr>\n",
       "      <th>4</th>\n",
       "      <td>-0.191315</td>\n",
       "      <td>-0.326572</td>\n",
       "      <td>2.174855</td>\n",
       "    </tr>\n",
       "  </tbody>\n",
       "</table>\n",
       "</div>"
      ],
      "text/plain": [
       "     Amount  Frequency   Recency\n",
       "0  8.359634  -0.396512  2.334858\n",
       "1  0.251046   0.394688 -0.905199\n",
       "2 -0.028546  -0.265374 -0.175186\n",
       "3 -0.032963  -0.081781 -0.735196\n",
       "4 -0.191315  -0.326572  2.174855"
      ]
     },
     "execution_count": 62,
     "metadata": {},
     "output_type": "execute_result"
    }
   ],
   "source": [
    "# Standardize data\n",
    "from sklearn.preprocessing import StandardScaler\n",
    "\n",
    "# Store original column names\n",
    "keys = RMF1.columns\n",
    "\n",
    "# Scale RMF1\n",
    "scaler = StandardScaler()\n",
    "RMF2 = scaler.fit_transform(RMF1)\n",
    "\n",
    "# Create a DataFrame with the scaled data and original column names\n",
    "RMF3 = pd.DataFrame(RMF2, columns=keys)\n",
    "RMF3.head()"
   ]
  },
  {
   "cell_type": "code",
   "execution_count": 64,
   "metadata": {},
   "outputs": [
    {
     "data": {
      "text/html": [
       "<div>\n",
       "<style scoped>\n",
       "    .dataframe tbody tr th:only-of-type {\n",
       "        vertical-align: middle;\n",
       "    }\n",
       "\n",
       "    .dataframe tbody tr th {\n",
       "        vertical-align: top;\n",
       "    }\n",
       "\n",
       "    .dataframe thead th {\n",
       "        text-align: right;\n",
       "    }\n",
       "</style>\n",
       "<table border=\"1\" class=\"dataframe\">\n",
       "  <thead>\n",
       "    <tr style=\"text-align: right;\">\n",
       "      <th></th>\n",
       "      <th>Amount</th>\n",
       "      <th>Frequency</th>\n",
       "      <th>Recency</th>\n",
       "    </tr>\n",
       "  </thead>\n",
       "  <tbody>\n",
       "    <tr>\n",
       "      <th>count</th>\n",
       "      <td>4.339000e+03</td>\n",
       "      <td>4.339000e+03</td>\n",
       "      <td>4.339000e+03</td>\n",
       "    </tr>\n",
       "    <tr>\n",
       "      <th>mean</th>\n",
       "      <td>-4.093931e-17</td>\n",
       "      <td>-1.146301e-17</td>\n",
       "      <td>7.532834e-17</td>\n",
       "    </tr>\n",
       "    <tr>\n",
       "      <th>std</th>\n",
       "      <td>1.000115e+00</td>\n",
       "      <td>1.000115e+00</td>\n",
       "      <td>1.000115e+00</td>\n",
       "    </tr>\n",
       "    <tr>\n",
       "      <th>min</th>\n",
       "      <td>-2.285239e-01</td>\n",
       "      <td>-3.965121e-01</td>\n",
       "      <td>-9.151995e-01</td>\n",
       "    </tr>\n",
       "    <tr>\n",
       "      <th>25%</th>\n",
       "      <td>-1.943370e-01</td>\n",
       "      <td>-3.265718e-01</td>\n",
       "      <td>-7.451965e-01</td>\n",
       "    </tr>\n",
       "    <tr>\n",
       "      <th>50%</th>\n",
       "      <td>-1.534784e-01</td>\n",
       "      <td>-2.216614e-01</td>\n",
       "      <td>-4.151906e-01</td>\n",
       "    </tr>\n",
       "    <tr>\n",
       "      <th>75%</th>\n",
       "      <td>-4.363455e-02</td>\n",
       "      <td>3.624356e-02</td>\n",
       "      <td>4.948256e-01</td>\n",
       "    </tr>\n",
       "    <tr>\n",
       "      <th>max</th>\n",
       "      <td>3.094978e+01</td>\n",
       "      <td>3.390047e+01</td>\n",
       "      <td>2.814867e+00</td>\n",
       "    </tr>\n",
       "  </tbody>\n",
       "</table>\n",
       "</div>"
      ],
      "text/plain": [
       "             Amount     Frequency       Recency\n",
       "count  4.339000e+03  4.339000e+03  4.339000e+03\n",
       "mean  -4.093931e-17 -1.146301e-17  7.532834e-17\n",
       "std    1.000115e+00  1.000115e+00  1.000115e+00\n",
       "min   -2.285239e-01 -3.965121e-01 -9.151995e-01\n",
       "25%   -1.943370e-01 -3.265718e-01 -7.451965e-01\n",
       "50%   -1.534784e-01 -2.216614e-01 -4.151906e-01\n",
       "75%   -4.363455e-02  3.624356e-02  4.948256e-01\n",
       "max    3.094978e+01  3.390047e+01  2.814867e+00"
      ]
     },
     "execution_count": 64,
     "metadata": {},
     "output_type": "execute_result"
    }
   ],
   "source": [
    "RMF3.describe()"
   ]
  },
  {
   "cell_type": "code",
   "execution_count": 65,
   "metadata": {
    "collapsed": true
   },
   "outputs": [],
   "source": [
    "# Remove outlier values outside mean +/- 3 std range\n",
    "for key in RMF3.keys():\n",
    "    mean = np.mean(RMF3[key])\n",
    "    std = np.std(RMF3[key])\n",
    "    RMF3 = RMF3[np.abs(RMF3[key] - mean) / std <= 3]"
   ]
  },
  {
   "cell_type": "code",
   "execution_count": 66,
   "metadata": {},
   "outputs": [
    {
     "data": {
      "text/html": [
       "<div>\n",
       "<style scoped>\n",
       "    .dataframe tbody tr th:only-of-type {\n",
       "        vertical-align: middle;\n",
       "    }\n",
       "\n",
       "    .dataframe tbody tr th {\n",
       "        vertical-align: top;\n",
       "    }\n",
       "\n",
       "    .dataframe thead th {\n",
       "        text-align: right;\n",
       "    }\n",
       "</style>\n",
       "<table border=\"1\" class=\"dataframe\">\n",
       "  <thead>\n",
       "    <tr style=\"text-align: right;\">\n",
       "      <th></th>\n",
       "      <th>Amount</th>\n",
       "      <th>Frequency</th>\n",
       "      <th>Recency</th>\n",
       "    </tr>\n",
       "  </thead>\n",
       "  <tbody>\n",
       "    <tr>\n",
       "      <th>count</th>\n",
       "      <td>4225.000000</td>\n",
       "      <td>4225.000000</td>\n",
       "      <td>4225.000000</td>\n",
       "    </tr>\n",
       "    <tr>\n",
       "      <th>mean</th>\n",
       "      <td>-0.077034</td>\n",
       "      <td>-0.090643</td>\n",
       "      <td>0.020431</td>\n",
       "    </tr>\n",
       "    <tr>\n",
       "      <th>std</th>\n",
       "      <td>0.242705</td>\n",
       "      <td>0.361416</td>\n",
       "      <td>1.003236</td>\n",
       "    </tr>\n",
       "    <tr>\n",
       "      <th>min</th>\n",
       "      <td>-0.228524</td>\n",
       "      <td>-0.396512</td>\n",
       "      <td>-0.915199</td>\n",
       "    </tr>\n",
       "    <tr>\n",
       "      <th>25%</th>\n",
       "      <td>-0.194856</td>\n",
       "      <td>-0.326572</td>\n",
       "      <td>-0.735196</td>\n",
       "    </tr>\n",
       "    <tr>\n",
       "      <th>50%</th>\n",
       "      <td>-0.156142</td>\n",
       "      <td>-0.230404</td>\n",
       "      <td>-0.395190</td>\n",
       "    </tr>\n",
       "    <tr>\n",
       "      <th>75%</th>\n",
       "      <td>-0.057640</td>\n",
       "      <td>0.005645</td>\n",
       "      <td>0.544826</td>\n",
       "    </tr>\n",
       "    <tr>\n",
       "      <th>max</th>\n",
       "      <td>2.970923</td>\n",
       "      <td>1.644871</td>\n",
       "      <td>2.814867</td>\n",
       "    </tr>\n",
       "  </tbody>\n",
       "</table>\n",
       "</div>"
      ],
      "text/plain": [
       "            Amount    Frequency      Recency\n",
       "count  4225.000000  4225.000000  4225.000000\n",
       "mean     -0.077034    -0.090643     0.020431\n",
       "std       0.242705     0.361416     1.003236\n",
       "min      -0.228524    -0.396512    -0.915199\n",
       "25%      -0.194856    -0.326572    -0.735196\n",
       "50%      -0.156142    -0.230404    -0.395190\n",
       "75%      -0.057640     0.005645     0.544826\n",
       "max       2.970923     1.644871     2.814867"
      ]
     },
     "execution_count": 66,
     "metadata": {},
     "output_type": "execute_result"
    }
   ],
   "source": [
    "RMF3.describe()"
   ]
  },
  {
   "cell_type": "code",
   "execution_count": null,
   "metadata": {
    "collapsed": true
   },
   "outputs": [],
   "source": []
  },
  {
   "cell_type": "markdown",
   "metadata": {},
   "source": [
    "<a id=\"4\"></a> <br>\n",
    "## Step 4 : Building K-Means Model & Clustering"
   ]
  },
  {
   "cell_type": "code",
   "execution_count": 67,
   "metadata": {},
   "outputs": [
    {
     "name": "stdout",
     "output_type": "stream",
     "text": [
      "2 :  1613.8859836835309\n",
      "3 :  1141.7945908458803\n",
      "4 :  747.4978438459059\n",
      "5 :  583.6813115467926\n",
      "6 :  494.3857724173863\n",
      "7 :  416.9952847502816\n",
      "8 :  351.97457381382304\n",
      "9 :  309.5054590877716\n",
      "10 :  285.54012683815034\n"
     ]
    }
   ],
   "source": [
    "# Draw elbow curve to find optimal K value\n",
    "# 2 <= i <= 10\n",
    "inertia = {}\n",
    "for i in range(2, 11):\n",
    "    kmeans = KMeans(n_clusters=i, max_iter=1000)\n",
    "    kmeans.fit(RMF3)\n",
    "    inertia[i] = kmeans.inertia_\n",
    "\n",
    "for k, v in inertia.items():\n",
    "    print(str(k), ': ', str(v))"
   ]
  },
  {
   "cell_type": "code",
   "execution_count": 79,
   "metadata": {},
   "outputs": [
    {
     "data": {
      "image/png": "[encoded data removed]",
      "text/plain": [
       "<Figure size 432x288 with 1 Axes>"
      ]
     },
     "metadata": {
      "needs_background": "light"
     },
     "output_type": "display_data"
    }
   ],
   "source": [
    "plt.plot(np.arange(2,11), list(inertia.values()), color = \"blue\")\n",
    "plt.scatter(np.arange(2,11), list(inertia.values()), color = \"red\")\n",
    "plt.title('The Elbow Method',fontsize=22)\n",
    "plt.xlabel('Number of Clusters', fontsize=22)\n",
    "plt.ylabel('WCSS', fontsize=22)\n",
    "plt.show()  #Display Graph"
   ]
  },
  {
   "cell_type": "markdown",
   "metadata": {},
   "source": [
    "The elbow curve is close to a linear function after K value of 3, which indicates that adding more centroids may not result in better clustering outcomes. Therefore, K should be set to 3 according to the elbow curve."
   ]
  },
  {
   "cell_type": "markdown",
   "metadata": {},
   "source": [
    "### Silhouette Analysis\n",
    "\n",
    "$$\\text{silhouette score}=\\frac{p-q}{max(p,q)}$$\n",
    "\n",
    "$p$ is the mean distance to the points in the nearest cluster that the data point is not a part of\n",
    "\n",
    "$q$ is the mean intra-cluster distance to all the points in its own cluster.\n",
    "\n",
    "* The value of the silhouette score range lies between -1 to 1. \n",
    "\n",
    "* A score closer to 1 indicates that the data point is very similar to other data points in the cluster, \n",
    "\n",
    "* A score closer to -1 indicates that the data point is not similar to the data points in its cluster.\n",
    "\n",
    "**Rule: Higher score is better.**"
   ]
  },
  {
   "cell_type": "code",
   "execution_count": 82,
   "metadata": {},
   "outputs": [
    {
     "name": "stdout",
     "output_type": "stream",
     "text": [
      "For n_clusters=2, the silhouette score is 0.6385\n",
      "For n_clusters=3, the silhouette score is 0.5055\n",
      "For n_clusters=4, the silhouette score is 0.5006\n",
      "For n_clusters=5, the silhouette score is 0.4359\n",
      "For n_clusters=6, the silhouette score is 0.4176\n",
      "For n_clusters=7, the silhouette score is 0.4133\n",
      "For n_clusters=8, the silhouette score is 0.4175\n",
      "For n_clusters=9, the silhouette score is 0.4039\n"
     ]
    }
   ],
   "source": [
    "# # Silhouette analysis\n",
    "for num_clusters in range(2,10):\n",
    "    kmeans = KMeans(n_clusters=num_clusters, max_iter=1000)\n",
    "    kmeans.fit(RMF3)\n",
    "    cluster_labels = kmeans.labels_\n",
    "    \n",
    "    silhouette_avg = silhouette_score(RMF3, cluster_labels)\n",
    "    print(\"For n_clusters={0}, the silhouette score is {1:.4f}\".format(num_clusters, silhouette_avg))"
   ]
  },
  {
   "cell_type": "markdown",
   "metadata": {},
   "source": [
    "Although K=2 is the number of K with the highest score, from the perspective of business and for easier interpretation, we continue to adopt 3 as the K value. \n",
    "You will see how K=3 works out in the later sections of this article."
   ]
  },
  {
   "cell_type": "code",
   "execution_count": 83,
   "metadata": {},
   "outputs": [
    {
     "name": "stdout",
     "output_type": "stream",
     "text": [
      "[0 0 0 ... 2 0 0]\n"
     ]
    }
   ],
   "source": [
    "# Final model with k=3\n",
    "kmeans = KMeans(n_clusters=3, max_iter=1000)\n",
    "kmeans.fit(RMF3)\n",
    "print(kmeans.labels_)"
   ]
  },
  {
   "cell_type": "code",
   "execution_count": 85,
   "metadata": {},
   "outputs": [
    {
     "name": "stdout",
     "output_type": "stream",
     "text": [
      "(4225, 4)\n"
     ]
    },
    {
     "data": {
      "text/html": [
       "<div>\n",
       "<style scoped>\n",
       "    .dataframe tbody tr th:only-of-type {\n",
       "        vertical-align: middle;\n",
       "    }\n",
       "\n",
       "    .dataframe tbody tr th {\n",
       "        vertical-align: top;\n",
       "    }\n",
       "\n",
       "    .dataframe thead th {\n",
       "        text-align: right;\n",
       "    }\n",
       "</style>\n",
       "<table border=\"1\" class=\"dataframe\">\n",
       "  <thead>\n",
       "    <tr style=\"text-align: right;\">\n",
       "      <th></th>\n",
       "      <th>Amount</th>\n",
       "      <th>Frequency</th>\n",
       "      <th>Recency</th>\n",
       "      <th>Cluster_Id</th>\n",
       "    </tr>\n",
       "  </thead>\n",
       "  <tbody>\n",
       "    <tr>\n",
       "      <th>1</th>\n",
       "      <td>0.251046</td>\n",
       "      <td>0.394688</td>\n",
       "      <td>-0.905199</td>\n",
       "      <td>0</td>\n",
       "    </tr>\n",
       "    <tr>\n",
       "      <th>2</th>\n",
       "      <td>-0.028546</td>\n",
       "      <td>-0.265374</td>\n",
       "      <td>-0.175186</td>\n",
       "      <td>0</td>\n",
       "    </tr>\n",
       "    <tr>\n",
       "      <th>3</th>\n",
       "      <td>-0.032963</td>\n",
       "      <td>-0.081781</td>\n",
       "      <td>-0.735196</td>\n",
       "      <td>0</td>\n",
       "    </tr>\n",
       "    <tr>\n",
       "      <th>4</th>\n",
       "      <td>-0.191315</td>\n",
       "      <td>-0.326572</td>\n",
       "      <td>2.174855</td>\n",
       "      <td>1</td>\n",
       "    </tr>\n",
       "    <tr>\n",
       "      <th>5</th>\n",
       "      <td>0.050321</td>\n",
       "      <td>-0.029325</td>\n",
       "      <td>-0.565193</td>\n",
       "      <td>0</td>\n",
       "    </tr>\n",
       "    <tr>\n",
       "      <th>...</th>\n",
       "      <td>...</td>\n",
       "      <td>...</td>\n",
       "      <td>...</td>\n",
       "      <td>...</td>\n",
       "    </tr>\n",
       "    <tr>\n",
       "      <th>4333</th>\n",
       "      <td>-0.209174</td>\n",
       "      <td>-0.361542</td>\n",
       "      <td>-0.185187</td>\n",
       "      <td>0</td>\n",
       "    </tr>\n",
       "    <tr>\n",
       "      <th>4334</th>\n",
       "      <td>-0.208429</td>\n",
       "      <td>-0.357171</td>\n",
       "      <td>1.854850</td>\n",
       "      <td>1</td>\n",
       "    </tr>\n",
       "    <tr>\n",
       "      <th>4335</th>\n",
       "      <td>-0.219531</td>\n",
       "      <td>-0.370285</td>\n",
       "      <td>0.884833</td>\n",
       "      <td>2</td>\n",
       "    </tr>\n",
       "    <tr>\n",
       "      <th>4336</th>\n",
       "      <td>-0.208712</td>\n",
       "      <td>-0.348428</td>\n",
       "      <td>-0.845198</td>\n",
       "      <td>0</td>\n",
       "    </tr>\n",
       "    <tr>\n",
       "      <th>4338</th>\n",
       "      <td>-0.024091</td>\n",
       "      <td>-0.094895</td>\n",
       "      <td>-0.495192</td>\n",
       "      <td>0</td>\n",
       "    </tr>\n",
       "  </tbody>\n",
       "</table>\n",
       "<p>4225 rows × 4 columns</p>\n",
       "</div>"
      ],
      "text/plain": [
       "        Amount  Frequency   Recency  Cluster_Id\n",
       "1     0.251046   0.394688 -0.905199           0\n",
       "2    -0.028546  -0.265374 -0.175186           0\n",
       "3    -0.032963  -0.081781 -0.735196           0\n",
       "4    -0.191315  -0.326572  2.174855           1\n",
       "5     0.050321  -0.029325 -0.565193           0\n",
       "...        ...        ...       ...         ...\n",
       "4333 -0.209174  -0.361542 -0.185187           0\n",
       "4334 -0.208429  -0.357171  1.854850           1\n",
       "4335 -0.219531  -0.370285  0.884833           2\n",
       "4336 -0.208712  -0.348428 -0.845198           0\n",
       "4338 -0.024091  -0.094895 -0.495192           0\n",
       "\n",
       "[4225 rows x 4 columns]"
      ]
     },
     "execution_count": 85,
     "metadata": {},
     "output_type": "execute_result"
    }
   ],
   "source": [
    "# Assign label\n",
    "RMF3['Cluster_Id'] = kmeans.labels_\n",
    "print(RMF3.shape)\n",
    "RMF3"
   ]
  },
  {
   "cell_type": "code",
   "execution_count": 97,
   "metadata": {},
   "outputs": [
    {
     "data": {
      "text/plain": [
       "Text(0.5, 1.0, 'Clustering: Frequency vs Recency')"
      ]
     },
     "execution_count": 97,
     "metadata": {},
     "output_type": "execute_result"
    },
    {
     "data": {
      "image/png": "[encoded data removed]",
      "text/plain": [
       "<Figure size 432x288 with 1 Axes>"
      ]
     },
     "metadata": {
      "needs_background": "light"
     },
     "output_type": "display_data"
    },
    {
     "data": {
      "image/png": "[encoded data removed]",
      "text/plain": [
       "<Figure size 432x288 with 1 Axes>"
      ]
     },
     "metadata": {
      "needs_background": "light"
     },
     "output_type": "display_data"
    },
    {
     "data": {
      "image/png": "[encoded data removed]",
      "text/plain": [
       "<Figure size 432x288 with 1 Axes>"
      ]
     },
     "metadata": {
      "needs_background": "light"
     },
     "output_type": "display_data"
    }
   ],
   "source": [
    "# Scatter plot\n",
    "plt.subplots()\n",
    "plt.scatter(x=RMF3['Recency'], y=RMF3['Amount'], c=RMF3['Cluster_Id'], alpha=0.5)\n",
    "plt.xlabel('Recency')\n",
    "plt.ylabel('Amount')\n",
    "plt.title(\"Clustering: Recency vs Amount\")\n",
    "\n",
    "plt.subplots()\n",
    "plt.scatter(x=RMF3['Frequency'], y=RMF3['Amount'], c=RMF3['Cluster_Id'], alpha=0.5)\n",
    "plt.xlabel('Frequency')\n",
    "plt.ylabel('Amount')\n",
    "plt.title(\"Clustering: Frequency vs Amount\")\n",
    "\n",
    "plt.subplots()\n",
    "plt.scatter(x=RMF3['Frequency'], y=RMF3['Recency'], c=RMF3['Cluster_Id'], alpha=0.4)\n",
    "plt.xlabel('Frequency')\n",
    "plt.ylabel('Recency')\n",
    "plt.title(\"Clustering: Frequency vs Recency\")"
   ]
  },
  {
   "cell_type": "markdown",
   "metadata": {},
   "source": [
    "draw a 3D plot to visualize which group our customers belong to, after we computing three variables of R, F, and M? "
   ]
  },
  {
   "cell_type": "code",
   "execution_count": 92,
   "metadata": {},
   "outputs": [
    {
     "data": {
      "text/plain": [
       "Text(0.5, 0, 'Amount')"
      ]
     },
     "execution_count": 92,
     "metadata": {},
     "output_type": "execute_result"
    },
    {
     "data": {
      "image/png": "[encoded data removed]",
      "text/plain": [
       "<Figure size 432x288 with 1 Axes>"
      ]
     },
     "metadata": {
      "needs_background": "light"
     },
     "output_type": "display_data"
    }
   ],
   "source": [
    "# Create 3D scatter plot\n",
    "from mpl_toolkits.mplot3d import Axes3D\n",
    "fig = plt.figure()\n",
    "ax = fig.add_subplot(111, projection='3d')\n",
    "ax.scatter(xs=RMF3['Recency'], ys=RMF3['Frequency'], zs=RMF3['Amount'], c=RMF3['Cluster_Id'])\n",
    "\n",
    "plt.title('RFM Clustering')\n",
    "ax.set_xlabel('Recency')\n",
    "ax.set_ylabel('Frequency')\n",
    "ax.set_zlabel('Amount')"
   ]
  },
  {
   "cell_type": "markdown",
   "metadata": {},
   "source": [
    "# Qualitative Analysis of Clustering Result\n",
    "This 3D scatter graph clearly shows that our K-Means clustering algorithm has successfully segmented all customers into three distinct categories:\n",
    "\n",
    "* Category 1: \n",
    "<span style=\"color:green\">Color: green </span>\n",
    "\n",
    "Number: quite a lot\n",
    "\n",
    "Purchase frequency: low\n",
    "\n",
    "Amount of spending: low\n",
    "\n",
    "Recency: vary\n",
    "\n",
    "\n",
    "\n",
    "* Category 2:  Color: purple\n",
    "\n",
    "Number: many \n",
    "\n",
    "Purchase frequency: low to mid\n",
    "\n",
    "Amount of spending: low to mid\n",
    "\n",
    "Recency: low\n",
    "\n",
    "\n",
    "* Category 3:   Color: yellow\n",
    "\n",
    "Number: few\n",
    "\n",
    "Purchase frequency: vary\n",
    "\n",
    "Amount of spending: high\n",
    "\n",
    "Recency: low\n"
   ]
  },
  {
   "cell_type": "code",
   "execution_count": null,
   "metadata": {
    "collapsed": true
   },
   "outputs": [],
   "source": []
  }
 ],
 "metadata": {
  "kernelspec": {
   "display_name": "Python 3 [3.7]",
   "language": "python",
   "name": "python3"
  },
  "language_info": {
   "codemirror_mode": {
    "name": "ipython",
    "version": 3
   },
   "file_extension": ".py",
   "mimetype": "text/x-python",
   "name": "python",
   "nbconvert_exporter": "python",
   "pygments_lexer": "ipython3",
   "version": "3.7.5"
  }
 },
 "nbformat": 4,
 "nbformat_minor": 2
}
